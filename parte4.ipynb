{
 "cells": [
  {
   "cell_type": "markdown",
   "metadata": {},
   "source": [
    "<h1>Task 1"
   ]
  },
  {
   "cell_type": "markdown",
   "metadata": {},
   "source": [
    "**Describa un algoritmo para generar V**"
   ]
  },
  {
   "cell_type": "markdown",
   "metadata": {},
   "source": [
    "    Algoritmo GenerarV():\n",
    "        Generar dos números aleatorios U1 y U2, uniformemente distribuidos en [0, 1].\n",
    "        \n",
    "        Definir una lista de probabilidades p_i para cada valor posible xi de V.\n",
    "        Definir una lista de funciones de probabilidad acumulada F_i para cada valor posible xi de V.\n",
    "\n",
    "        Inicializar i = 1\n",
    "        Mientras U1 > Σ(p_i * F_i(xi)):\n",
    "            Incrementar i en 1\n",
    "        Fin Mientras\n",
    "\n",
    "        Asignar V = xi (el valor correspondiente a i)\n",
    "\n",
    "    Fin Algoritmo\n"
   ]
  },
  {
   "cell_type": "markdown",
   "metadata": {},
   "source": [
    "Para demostrar que el algoritmo genera adecuadamente V, es decir, que sigue la función de probabilidad acumulada F(x) y la distribución de probabilidad adecuada p_i para cada xi, podemos usar la propiedad de que los números aleatorios U1 y U2 están uniformemente distribuidos entre 0 y 1.\n",
    "\n",
    "Cuando el algoritmo elige un valor V = xi, eso significa que la probabilidad de que el número aleatorio U1 esté en un cierto rango específico es exactamente igual a la probabilidad p_i asociada con ese valor xi. Como U1 está distribuido uniformemente entre 0 y 1, el algoritmo selecciona cada posible valor xi con la probabilidad correcta p_i que queremos para V.\n",
    "\n",
    "Además, la suma acumulada de las probabilidades Σ(p_i * F_i(xi)) es igual a la función de probabilidad acumulada deseada F(xi) para V. Esto asegura que el algoritmo elija los valores de V de acuerdo con la función de probabilidad acumulada F(x) que queremos generar. *(Referencia - Simulation Modeling and Analysis\" de Averill M. Law y W. David Kelton)*\n",
    "\n",
    "En resumen, el algoritmo genera adecuadamente V porque selecciona los valores de acuerdo con la probabilidad acumulada F(x) y sigue la distribución adecuada p_i para cada xi."
   ]
  },
  {
   "cell_type": "markdown",
   "metadata": {},
   "source": [
    "<h1>Task 2"
   ]
  },
  {
   "cell_type": "code",
   "execution_count": 50,
   "metadata": {},
   "outputs": [
    {
     "data": {
      "image/png": "[encoded data removed]",
      "text/plain": [
       "<Figure size 640x480 with 1 Axes>"
      ]
     },
     "metadata": {},
     "output_type": "display_data"
    }
   ],
   "source": [
    "import random\n",
    "import matplotlib.pyplot as plt\n",
    "\n",
    "def generar_variable_aleatoria(funcion_masa_probabilidad):\n",
    "    n = len(funcion_masa_probabilidad)\n",
    "    acumulada = [0] * n\n",
    "\n",
    "    acumulada[0] = funcion_masa_probabilidad[0]\n",
    "    for i in range(1, n):\n",
    "        acumulada[i] = acumulada[i - 1] + funcion_masa_probabilidad[i]\n",
    "\n",
    "    U1 = random.random()\n",
    "    for i in range(n):\n",
    "        if U1 <= acumulada[i]:\n",
    "            return i + 1  \n",
    "\n",
    "funcion_masa_probabilidad_ejemplo = [0.1, 0.3, 0.2, 0.4]\n",
    "\n",
    "# Generamos una muestra de 1000 valores aleatorios usando la función de masa de probabilidad\n",
    "muestra = [generar_variable_aleatoria(funcion_masa_probabilidad_ejemplo) for _ in range(1000)]\n",
    "\n",
    "\n",
    "plt.hist(muestra, bins=len(funcion_masa_probabilidad_ejemplo), align='left', rwidth=0.8)\n",
    "plt.xticks(range(1, len(funcion_masa_probabilidad_ejemplo) + 1))\n",
    "plt.xlabel('Valores de la variable aleatoria')\n",
    "plt.ylabel('Frecuencia')\n",
    "plt.title('Histograma de la muestra generada')\n",
    "plt.grid(axis='y')\n",
    "plt.show()\n"
   ]
  },
  {
   "cell_type": "markdown",
   "metadata": {},
   "source": [
    "<h1>Task 3\n"
   ]
  },
  {
   "cell_type": "markdown",
   "metadata": {},
   "source": [
    "Realice tres simulaciones para determinar cuál de los proyectos es el más rentable. Utilice 100, 1,000 y\n",
    "10,000 iteraciones\n"
   ]
  },
  {
   "cell_type": "code",
   "execution_count": 51,
   "metadata": {},
   "outputs": [],
   "source": [
    "proyecto_hotel = [\n",
    "    -800,\n",
    "    (-800, 50),\n",
    "    (-800, 100),\n",
    "    (-700, 150),\n",
    "    (300, 200),\n",
    "    (400, 200),\n",
    "    (500, 200),\n",
    "    (200, 8440)\n",
    "]\n",
    "\n",
    "proyecto_centro_comercial = [\n",
    "    -900,\n",
    "    (-600, 50),\n",
    "    (-200, 50),\n",
    "    (-600, 100),\n",
    "    (250, 150),\n",
    "    (350, 150),\n",
    "    (400, 150),\n",
    "    (1600, 6000)\n",
    "]"
   ]
  },
  {
   "cell_type": "markdown",
   "metadata": {},
   "source": [
    "**Tasa de descuento**"
   ]
  },
  {
   "cell_type": "code",
   "execution_count": 52,
   "metadata": {},
   "outputs": [],
   "source": [
    "tasa_descuento = 0.10  "
   ]
  },
  {
   "cell_type": "code",
   "execution_count": 53,
   "metadata": {},
   "outputs": [],
   "source": [
    "#Generar variable aleatoria\n",
    "def generar_variable_aleatoria(distribucion):\n",
    "    if isinstance(distribucion, tuple):\n",
    "        return random.normalvariate(distribucion[0], distribucion[1])\n",
    "    else:\n",
    "        return distribucion\n",
    "\n",
    "def calcular_vpn(flujos_caja, tasa_descuento):\n",
    "    vpn = 0\n",
    "    for i, flujo in enumerate(flujos_caja):\n",
    "        vpn += flujo / ((1 + tasa_descuento) ** i)\n",
    "    return vpn\n",
    "\n",
    "def getVPN(distribuciones, tasa_descuento, iteraciones):\n",
    "    vpns = []\n",
    "    for _ in range(iteraciones):\n",
    "        flujos_caja_simulados = [generar_variable_aleatoria(distribucion) for distribucion in distribuciones]\n",
    "        vpn = calcular_vpn(flujos_caja_simulados, tasa_descuento)\n",
    "        vpns.append(vpn)\n",
    "    return vpns\n",
    "\n"
   ]
  },
  {
   "cell_type": "code",
   "execution_count": 54,
   "metadata": {},
   "outputs": [],
   "source": [
    "def Simular(n_iteraciones):\n",
    "    vpns_hotel = getVPN(proyecto_hotel, tasa_descuento, n_iteraciones)\n",
    "    vpns_centro_comercial = getVPN(proyecto_centro_comercial, tasa_descuento, n_iteraciones)\n",
    "\n",
    "    vpn_promedio_hotel = sum(vpns_hotel) / len(vpns_hotel)\n",
    "    vpn_promedio_centro_comercial = sum(vpns_centro_comercial) / len(vpns_centro_comercial)\n",
    "\n",
    "    print(f\"VPN promedio Hotel: {vpn_promedio_hotel}\")\n",
    "    print(f\"VPN promedio Centro Comercial: {vpn_promedio_centro_comercial}\")\n",
    "\n",
    "    if vpn_promedio_hotel > vpn_promedio_centro_comercial:\n",
    "        print(\"Es mejor invertir en el Hotel\")\n",
    "    else:\n",
    "        print(\"\\nEs mejor invertir en el <Centro Comercial>\")"
   ]
  },
  {
   "cell_type": "markdown",
   "metadata": {},
   "source": [
    "**100 Iteraciones**"
   ]
  },
  {
   "cell_type": "code",
   "execution_count": 55,
   "metadata": {},
   "outputs": [
    {
     "name": "stdout",
     "output_type": "stream",
     "text": [
      "VPN promedio Hotel: -2327.0996546583647\n",
      "VPN promedio Centro Comercial: -398.391470230002\n",
      "\n",
      "Es mejor invertir en el <Centro Comercial>\n"
     ]
    }
   ],
   "source": [
    "Simular(100)"
   ]
  },
  {
   "cell_type": "markdown",
   "metadata": {},
   "source": [
    "**1,000 Iteraciones**"
   ]
  },
  {
   "cell_type": "code",
   "execution_count": 56,
   "metadata": {},
   "outputs": [
    {
     "name": "stdout",
     "output_type": "stream",
     "text": [
      "VPN promedio Hotel: -1884.6010025616836\n",
      "VPN promedio Centro Comercial: -638.0363280120451\n",
      "\n",
      "Es mejor invertir en el <Centro Comercial>\n"
     ]
    }
   ],
   "source": [
    "Simular(1000)"
   ]
  },
  {
   "cell_type": "markdown",
   "metadata": {},
   "source": [
    "**10,000 Iteraciones**"
   ]
  },
  {
   "cell_type": "code",
   "execution_count": 57,
   "metadata": {},
   "outputs": [
    {
     "name": "stdout",
     "output_type": "stream",
     "text": [
      "VPN promedio Hotel: -1999.5765708137073\n",
      "VPN promedio Centro Comercial: -535.3067468304996\n",
      "\n",
      "Es mejor invertir en el <Centro Comercial>\n"
     ]
    }
   ],
   "source": [
    "Simular(1000)"
   ]
  },
  {
   "cell_type": "markdown",
   "metadata": {},
   "source": [
    "Como el VPN promedio en todas las simulaciones es menor para el proyecto del centro comercial, es mejor opcion inverti en dicho proyecto. "
   ]
  }
 ],
 "metadata": {
  "kernelspec": {
   "display_name": "Python 3",
   "language": "python",
   "name": "python3"
  },
  "language_info": {
   "codemirror_mode": {
    "name": "ipython",
    "version": 3
   },
   "file_extension": ".py",
   "mimetype": "text/x-python",
   "name": "python",
   "nbconvert_exporter": "python",
   "pygments_lexer": "ipython3",
   "version": "3.10.9"
  },
  "orig_nbformat": 4
 },
 "nbformat": 4,
 "nbformat_minor": 2
}
